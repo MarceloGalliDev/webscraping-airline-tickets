{
 "cells": [
  {
   "cell_type": "code",
   "execution_count": 66,
   "metadata": {},
   "outputs": [],
   "source": [
    "import time\n",
    "from selenium import webdriver\n",
    "from selenium.webdriver.common.by import By\n",
    "from selenium.webdriver.common.keys import Keys\n",
    "from selenium.webdriver.common.action_chains import ActionChains"
   ]
  },
  {
   "cell_type": "code",
   "execution_count": 67,
   "metadata": {},
   "outputs": [],
   "source": [
    "options = webdriver.ChromeOptions()\n",
    "options.add_argument(\"--start-maximized\")\n",
    "options.add_experimental_option(\"detach\", True)\n",
    "\n",
    "driver = webdriver.Chrome(options=options)\n",
    "\n",
    "driver.get(\"https://www.livelo.com.br/\")\n",
    "\n",
    "actions = ActionChains(driver)\n"
   ]
  },
  {
   "cell_type": "code",
   "execution_count": 68,
   "metadata": {},
   "outputs": [],
   "source": [
    "cookies_policy = driver.find_element(By.CLASS_NAME, \"button__authorize\")\n",
    "cookies_policy.click()"
   ]
  },
  {
   "cell_type": "code",
   "execution_count": 69,
   "metadata": {},
   "outputs": [],
   "source": [
    "close_modal_home_cadastro = driver.find_element(By.CLASS_NAME, \"close_modal_home_cadastro\")\n",
    "close_modal_home_cadastro.click()"
   ]
  },
  {
   "cell_type": "code",
   "execution_count": 77,
   "metadata": {},
   "outputs": [],
   "source": [
    "search_item_menu = driver.find_element(By.ID, \"span-sideMenu-9\")\n",
    "search_item_menu.click()"
   ]
  },
  {
   "cell_type": "code",
   "execution_count": 78,
   "metadata": {},
   "outputs": [
    {
     "name": "stdout",
     "output_type": "stream",
     "text": [
      "Texto do elemento: Viagens\n"
     ]
    }
   ],
   "source": [
    "search_item_submenu = driver.find_element(By.XPATH, \"//span[text()='Viagens']\")\n",
    "print(\"Texto do elemento:\", search_item_submenu.text)\n",
    "search_item_submenu.click()\n"
   ]
  },
  {
   "cell_type": "code",
   "execution_count": 79,
   "metadata": {},
   "outputs": [],
   "source": [
    "link_for_trip = driver.find_element(By.XPATH, \"//a[text()='Central de Viagens']\")\n",
    "link_for_trip.click()"
   ]
  },
  {
   "cell_type": "code",
   "execution_count": 80,
   "metadata": {},
   "outputs": [],
   "source": [
    "origin_passage = driver.find_element(By.ID, \"inpt-originPassages\")\n",
    "origin_passage.send_keys(\"Maringá\")\n",
    "time.sleep(3)\n",
    "origin_passage.send_keys(Keys.ARROW_DOWN)\n",
    "time.sleep(2)\n",
    "actions.send_keys(Keys.ENTER).perform()"
   ]
  },
  {
   "cell_type": "code",
   "execution_count": 81,
   "metadata": {},
   "outputs": [],
   "source": [
    "destiny_passages = driver.find_element(By.ID, \"inpt-destinyPassages\")\n",
    "destiny_passages.send_keys(\"Curitiba\")\n",
    "time.sleep(3)\n",
    "destiny_passages.send_keys(Keys.ARROW_DOWN)\n",
    "time.sleep(2)\n",
    "destiny_passages = driver.find_element(By.XPATH, \"//li[text()='Curitiba - PR , Brasil']\")\n",
    "time.sleep(1)\n",
    "destiny_passages.click()"
   ]
  },
  {
   "cell_type": "code",
   "execution_count": 82,
   "metadata": {},
   "outputs": [],
   "source": [
    "date_passages = driver.find_element(By.ID, \"inpt-goingPassages\")\n",
    "date_passages.click()"
   ]
  },
  {
   "cell_type": "code",
   "execution_count": 83,
   "metadata": {},
   "outputs": [],
   "source": [
    "date_first_picker = driver.find_element(By.XPATH, \"//a[text()='25']\")\n",
    "date_first_picker.click()\n",
    "time.sleep(2)\n",
    "date_end_picker = driver.find_element(By.XPATH, \"//a[text()='27']\")\n",
    "date_end_picker.click()\n"
   ]
  },
  {
   "cell_type": "code",
   "execution_count": 84,
   "metadata": {},
   "outputs": [],
   "source": [
    "icon_search = driver.find_element(By.CLASS_NAME, \"icon-search\")\n",
    "icon_search.click()"
   ]
  }
 ],
 "metadata": {
  "kernelspec": {
   "display_name": ".venv",
   "language": "python",
   "name": "python3"
  },
  "language_info": {
   "codemirror_mode": {
    "name": "ipython",
    "version": 3
   },
   "file_extension": ".py",
   "mimetype": "text/x-python",
   "name": "python",
   "nbconvert_exporter": "python",
   "pygments_lexer": "ipython3",
   "version": "3.12.9"
  }
 },
 "nbformat": 4,
 "nbformat_minor": 2
}
